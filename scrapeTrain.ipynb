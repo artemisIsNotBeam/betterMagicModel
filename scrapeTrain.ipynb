{
  "nbformat": 4,
  "nbformat_minor": 0,
  "metadata": {
    "colab": {
      "provenance": [],
      "authorship_tag": "ABX9TyOQXlYiAPQxSuVM/A02pRI+",
      "include_colab_link": true
    },
    "kernelspec": {
      "name": "python3",
      "display_name": "Python 3"
    },
    "language_info": {
      "name": "python"
    }
  },
  "cells": [
    {
      "cell_type": "markdown",
      "metadata": {
        "id": "view-in-github",
        "colab_type": "text"
      },
      "source": [
        "<a href=\"https://colab.research.google.com/github/artemisIsNotBeam/betterMagicModel/blob/main/scrapeTrain.ipynb\" target=\"_parent\"><img src=\"https://colab.research.google.com/assets/colab-badge.svg\" alt=\"Open In Colab\"/></a>"
      ]
    },
    {
      "cell_type": "code",
      "execution_count": null,
      "metadata": {
        "colab": {
          "base_uri": "https://localhost:8080/"
        },
        "id": "NLJYzncj2bTs",
        "outputId": "a986c858-dd65-4e25-b037-a97fd55aa601"
      },
      "outputs": [
        {
          "output_type": "stream",
          "name": "stdout",
          "text": [
            "Mounted at /content/drive\n"
          ]
        }
      ],
      "source": [
        "from google.colab import drive\n",
        "drive.mount('/content/drive')"
      ]
    },
    {
      "cell_type": "code",
      "source": [
        "import numpy as np\n",
        "import pandas as pd\n",
        "\n",
        "from tensorflow import keras\n",
        "from tensorflow.keras import layers\n",
        "import keras.metrics as metrics\n",
        "\n",
        "import tensorflow as tf\n",
        "import tensorflow_probability as tfp\n",
        "\n",
        "import sklearn\n",
        "# let's pull our handy linear fitter from our 'prediction' toolbox: sklearn!\n",
        "from sklearn.linear_model import LinearRegression"
      ],
      "metadata": {
        "id": "jQEKAJAY2i8g"
      },
      "execution_count": null,
      "outputs": []
    },
    {
      "cell_type": "markdown",
      "source": [],
      "metadata": {
        "id": "rWJdXghS4VCP"
      }
    },
    {
      "cell_type": "code",
      "source": [
        "data = pd.read_csv(\"drive/MyDrive/aiData/No100WriteTo.csv\")\n",
        "test = pd.read_csv(\"drive/MyDrive/aiData/tesetData.csv\")\n",
        "print(data.shape)\n",
        "def features_labelsNoCards(df):\n",
        "  features = df.values[:, np.arange(df.shape[1]) != 1]\n",
        "  labels = df.values[:,1]\n",
        "\n",
        "  return features, labels\n",
        "\n",
        "X,y = features_labelsNoCards(data)\n",
        "Xtest,ytest= features_labelsNoCards(test)"
      ],
      "metadata": {
        "colab": {
          "base_uri": "https://localhost:8080/"
        },
        "id": "Xmqjgw832li5",
        "outputId": "49ae2b06-986c-446b-da0d-0daeed39f005"
      },
      "execution_count": null,
      "outputs": [
        {
          "output_type": "stream",
          "name": "stdout",
          "text": [
            "(205, 5)\n"
          ]
        }
      ]
    },
    {
      "cell_type": "code",
      "source": [
        "model = keras.Sequential()\n",
        "model.add(keras.layers.Dense(4, input_shape=(4,)))\n",
        "model.add(keras.layers.Dense(5, activation='relu'))\n",
        "model.add(keras.layers.Dense(7, activation='relu'))\n",
        "model.add(keras.layers.Dense(5, activation='relu'))\n",
        "model.add(keras.layers.Dense(3, activation='relu'))\n",
        "model.add(keras.layers.Dense(1, activation='relu'))\n",
        "\n",
        "opt = keras.optimizers.Adam(learning_rate=0.03)\n",
        "\n",
        "model.compile(loss='mse',optimizer=opt,metrics=[metrics.MeanSquaredError()])\n",
        "\n",
        "model.summary()"
      ],
      "metadata": {
        "colab": {
          "base_uri": "https://localhost:8080/"
        },
        "id": "c2B_DrrK2sy9",
        "outputId": "e711ee07-f37c-49e4-aac3-5be6065ef9de"
      },
      "execution_count": null,
      "outputs": [
        {
          "output_type": "stream",
          "name": "stdout",
          "text": [
            "Model: \"sequential_2\"\n",
            "_________________________________________________________________\n",
            " Layer (type)                Output Shape              Param #   \n",
            "=================================================================\n",
            " dense_12 (Dense)            (None, 4)                 20        \n",
            "                                                                 \n",
            " dense_13 (Dense)            (None, 5)                 25        \n",
            "                                                                 \n",
            " dense_14 (Dense)            (None, 7)                 42        \n",
            "                                                                 \n",
            " dense_15 (Dense)            (None, 5)                 40        \n",
            "                                                                 \n",
            " dense_16 (Dense)            (None, 3)                 18        \n",
            "                                                                 \n",
            " dense_17 (Dense)            (None, 1)                 4         \n",
            "                                                                 \n",
            "=================================================================\n",
            "Total params: 149\n",
            "Trainable params: 149\n",
            "Non-trainable params: 0\n",
            "_________________________________________________________________\n"
          ]
        }
      ]
    },
    {
      "cell_type": "code",
      "source": [
        "value=0\n",
        "while value ==0:\n",
        "  print(\"TRY,try try again\")\n",
        "  model.fit(X,y,epochs=20)\n",
        "\n",
        "  input_data = np.array([[60, 1.53, 92, 3]])\n",
        "  value = model.predict(input_data)\n"
      ],
      "metadata": {
        "colab": {
          "base_uri": "https://localhost:8080/"
        },
        "id": "cZGM9kHj4_4l",
        "outputId": "ab8cfddc-c05d-4217-950d-38ddb2860327"
      },
      "execution_count": null,
      "outputs": [
        {
          "output_type": "stream",
          "name": "stdout",
          "text": [
            "TRY,try try again\n",
            "Epoch 1/20\n",
            "7/7 [==============================] - 0s 3ms/step - loss: 10.9186 - mean_squared_error: 10.9186\n",
            "Epoch 2/20\n",
            "7/7 [==============================] - 0s 2ms/step - loss: 10.2572 - mean_squared_error: 10.2572\n",
            "Epoch 3/20\n",
            "7/7 [==============================] - 0s 3ms/step - loss: 10.3428 - mean_squared_error: 10.3428\n",
            "Epoch 4/20\n",
            "7/7 [==============================] - 0s 2ms/step - loss: 9.9997 - mean_squared_error: 9.9997\n",
            "Epoch 5/20\n",
            "7/7 [==============================] - 0s 2ms/step - loss: 12.4256 - mean_squared_error: 12.4256\n",
            "Epoch 6/20\n",
            "7/7 [==============================] - 0s 3ms/step - loss: 10.0519 - mean_squared_error: 10.0519\n",
            "Epoch 7/20\n",
            "7/7 [==============================] - 0s 2ms/step - loss: 10.6823 - mean_squared_error: 10.6823\n",
            "Epoch 8/20\n",
            "7/7 [==============================] - 0s 2ms/step - loss: 10.2189 - mean_squared_error: 10.2189\n",
            "Epoch 9/20\n",
            "7/7 [==============================] - 0s 3ms/step - loss: 9.8051 - mean_squared_error: 9.8051\n",
            "Epoch 10/20\n",
            "7/7 [==============================] - 0s 2ms/step - loss: 9.9940 - mean_squared_error: 9.9940\n",
            "Epoch 11/20\n",
            "7/7 [==============================] - 0s 3ms/step - loss: 10.8601 - mean_squared_error: 10.8601\n",
            "Epoch 12/20\n",
            "7/7 [==============================] - 0s 2ms/step - loss: 13.2375 - mean_squared_error: 13.2375\n",
            "Epoch 13/20\n",
            "7/7 [==============================] - 0s 5ms/step - loss: 10.1974 - mean_squared_error: 10.1974\n",
            "Epoch 14/20\n",
            "7/7 [==============================] - 0s 2ms/step - loss: 12.3272 - mean_squared_error: 12.3272\n",
            "Epoch 15/20\n",
            "7/7 [==============================] - 0s 3ms/step - loss: 11.9002 - mean_squared_error: 11.9002\n",
            "Epoch 16/20\n",
            "7/7 [==============================] - 0s 3ms/step - loss: 11.4424 - mean_squared_error: 11.4424\n",
            "Epoch 17/20\n",
            "7/7 [==============================] - 0s 2ms/step - loss: 13.5103 - mean_squared_error: 13.5103\n",
            "Epoch 18/20\n",
            "7/7 [==============================] - 0s 3ms/step - loss: 13.9777 - mean_squared_error: 13.9777\n",
            "Epoch 19/20\n",
            "7/7 [==============================] - 0s 3ms/step - loss: 12.2330 - mean_squared_error: 12.2330\n",
            "Epoch 20/20\n",
            "7/7 [==============================] - 0s 2ms/step - loss: 15.1646 - mean_squared_error: 15.1646\n",
            "1/1 [==============================] - 0s 22ms/step\n"
          ]
        }
      ]
    },
    {
      "cell_type": "code",
      "source": [
        "input_data = np.array([[60, 1.53, 92, 3]])\n",
        "model.predict(input_data)"
      ],
      "metadata": {
        "colab": {
          "base_uri": "https://localhost:8080/"
        },
        "id": "v5hfXwtV5mjS",
        "outputId": "a5a23f6c-3bb8-4f7d-bea7-d38f46eedeb1"
      },
      "execution_count": null,
      "outputs": [
        {
          "output_type": "stream",
          "name": "stdout",
          "text": [
            "1/1 [==============================] - 0s 20ms/step\n"
          ]
        },
        {
          "output_type": "execute_result",
          "data": {
            "text/plain": [
              "array([[21.27808]], dtype=float32)"
            ]
          },
          "metadata": {},
          "execution_count": 15
        }
      ]
    },
    {
      "cell_type": "code",
      "source": [
        "from sklearn.metrics import mean_squared_error\n",
        "\n",
        "y_pred = model.predict(Xtest)\n",
        "mse = mean_squared_error(ytest, y_pred)\n",
        "print(\"mse is :\"+str(mse))"
      ],
      "metadata": {
        "colab": {
          "base_uri": "https://localhost:8080/"
        },
        "id": "3X3GkSVRoNIV",
        "outputId": "c4ed7ccb-7c5f-46de-b955-9b5b68dc67b4"
      },
      "execution_count": null,
      "outputs": [
        {
          "output_type": "stream",
          "name": "stdout",
          "text": [
            "1/1 [==============================] - 0s 21ms/step\n",
            "mse is :4.751291331306372\n"
          ]
        }
      ]
    }
  ]
}